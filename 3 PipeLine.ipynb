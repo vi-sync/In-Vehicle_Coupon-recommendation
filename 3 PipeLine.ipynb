{
 "cells": [
  {
   "cell_type": "code",
   "execution_count": 11,
   "id": "666d7dc1",
   "metadata": {},
   "outputs": [],
   "source": [
    "import pandas as pd\n",
    "import pickle\n",
    "import warnings\n",
    "warnings.filterwarnings('ignore')"
   ]
  },
  {
   "cell_type": "code",
   "execution_count": 12,
   "id": "f6bbd878",
   "metadata": {},
   "outputs": [],
   "source": [
    "model = pickle.load(open(\"catboost_pkl\", \"rb\"))"
   ]
  },
  {
   "cell_type": "code",
   "execution_count": 13,
   "id": "758b68fa",
   "metadata": {},
   "outputs": [
    {
     "name": "stdout",
     "output_type": "stream",
     "text": [
      "Driver will accept the coupon\n"
     ]
    }
   ],
   "source": [
    "def pre_processing(datapoints):\n",
    "    \n",
    "    datapoints.pop(23)   #index of 'direction same'\n",
    "    datapoints.pop(14)   #car\n",
    "    \n",
    "    most_freq_values = {'destination': 'No Urgent Place','passanger': 'Alone','weather': 'Sunny','temperature': 80,\n",
    "     'time': '6PM','coupon': 'Coffee House','expiration': '1d','gender': 'Female','age': '21','maritalStatus': 'Married partner',\n",
    "     'has_children': 0,'education': 'Some college - no degree','occupation': 'Unemployed','income': '$25000 - $37499',\n",
    "     'Bar': 'never','CoffeeHouse': 'less1','CarryAway': '1~3',\n",
    "     'RestaurantLessThan20': '1~3','Restaurant20To50': '1~3','toCoupon_GEQ5min': 1,'toCoupon_GEQ15min': 1,\n",
    "     'toCoupon_GEQ25min': 0,'direction_opp': 1}\n",
    "\n",
    "    for index,point in enumerate(datapoints):\n",
    "        \n",
    "        if point =='NaN' or point =='nan' or point ==' ':\n",
    "            datapoints[index] = most_freq_values[list(most_freq_values.keys())[index]]    #filling the missing value\n",
    "    return datapoints\n",
    "\n",
    "def pipeline(datapoints):\n",
    "    datapoints = pre_processing(datapoints)\n",
    "    y_pred = model.predict(datapoints)\n",
    "    if y_pred ==1:\n",
    "        return print('Driver will accept the coupon')\n",
    "    else:\n",
    "        return print('Bad Luck the driver will not be accepting the coupon')\n"
   ]
  },
  {
   "cell_type": "code",
   "execution_count": 24,
   "id": "9c8f8c38",
   "metadata": {},
   "outputs": [
    {
     "name": "stdout",
     "output_type": "stream",
     "text": [
      "Driver will accept the coupon\n"
     ]
    }
   ],
   "source": [
    "##### Checking with input from the csv file\n",
    "test_data = ['No Urgent Place','Alone','Sunny',55,'2PM','Restaurant(<20)','1d','Female','21','Unmarried partner', 1,'Some college - no degree',\n",
    " 'Unemployed','$37500 - $49999',\" \",'never','never',\" \",'4~8','1~3',1,0,0,0,1,1]\n",
    "pipeline(test_data)"
   ]
  },
  {
   "cell_type": "markdown",
   "id": "8e2486a0",
   "metadata": {},
   "source": [
    "# Custom Input\n",
    "### Input  Value Guide \n",
    "+ destination\n",
    "    - 'No Urgent Place' ,'Home', 'Work'\n",
    "+ passanger\n",
    "    - 'Alone' ,'Friend(s)', 'Kid(s)', 'Partner'\n",
    "+ weather\n",
    "    - 'Sunny' ,'Rainy', 'Snowy'\n",
    "+ temperature\n",
    "    - 55, 80, 30\n",
    "+ time\n",
    "    - '2PM' ,'10AM', '6PM', '7AM', '10PM'\n",
    "+ coupon\n",
    "    - 'Restaurant(<20)', 'Coffee House' ,'Carry out & Take away', 'Bar','Restaurant(20-50)'\n",
    "+ expiration\n",
    "    - '1d' ,'2h'\n",
    "+ gender\n",
    "    - 'Female' ,'Male'\n",
    "+ age\n",
    "    - '21', '46', '26', '31', '41', '50plus', '36', 'below21'\n",
    "+ maritalStatus\n",
    "    - 'Unmarried partner', 'Single' ,'Married partner', 'Divorced', 'Widowed'\n",
    "+ has_children\n",
    "    - 1, 0\n",
    "+ education\n",
    "    - 'Some college - no degree' ,'Bachelors degree' ,'Associates degree','High School Graduate' ,'Graduate degree (Masters or Doctorate)','Some High School'\n",
    "    \n",
    "+ occupation\n",
    "    - 'Unemployed', 'Architecture & Engineering' ,'Student','Education&Training&Library' ,'Healthcare Support','Healthcare Practitioners & Technical' 'Sales & Related' 'Management', 'Arts Design Entertainment Sports & Media', 'Computer & Mathematical', 'Life Physical Social Science' ,'Personal Care & Service','Community & Social Services', 'Office & Administrative Support','Construction & Extraction' ,'Legal' ,'Retired','Installation Maintenance & Repair' ,'Transportation & Material Moving','Business & Financial' ,'Protective Service','Food Preparation & Serving Related' ,'Production Occupations','Building & Grounds Cleaning & Maintenance', 'Farming Fishing & Forestry']\n",
    " \n",
    "+ income\n",
    "    - ' 37500 -  49999' ,' 62500 -  74999' ,' 12500 -  24999', ' 75000 -  87499',' 50000 -  62499' ,' 25000 -  37499', ' 100000 or More', ' 87500 -  99999', 'Less than  12500']\n",
    "+ car\n",
    "    - nan, 'Scooter and motorcycle', 'crossover', 'Mazda5' ,'do not drive'.'Car that is too old to install Onstar :D'\n",
    "+ Bar ,CoffeeHouse,CarryAway,RestaurantLessThan20,Restaurant20To50\n",
    "    - '4-8' ,'1-3', 'less1' ,'gt8', nan ,'never'\n",
    "+ toCoupon_GEQ5min\n",
    "    - 1\n",
    "+ toCoupon_GEQ15min\n",
    "    - 0,1\n",
    "+ toCoupon_GEQ25min\n",
    "    - 0, 1\n",
    "\n",
    "+ direction_opp\n",
    "    - 1 0\n",
    "\n"
   ]
  },
  {
   "cell_type": "code",
   "execution_count": 21,
   "id": "32dc82f9",
   "metadata": {},
   "outputs": [
    {
     "name": "stdout",
     "output_type": "stream",
     "text": [
      "Enter value for destination\n",
      "Home\n",
      "Enter value for passanger\n",
      "Partner\n",
      "Enter value for weather\n",
      "Sunny\n",
      "Enter value for temperature\n",
      "55\n",
      "Enter value for time\n",
      "2PM\n",
      "Enter value for coupon\n",
      "Carry out & Take away\n",
      "Enter value for expiration\n",
      "1d\n",
      "Enter value for gender\n",
      "Male\n",
      "Enter value for age\n",
      "21\n",
      "Enter value for maritalStatus\n",
      "Single\n",
      "Enter value for has_children\n",
      "1\n",
      "Enter value for education\n",
      "Bachelors degree\n",
      "Enter value for occupation\n",
      "Building & Grounds Cleaning & Maintenance\n",
      "Enter value for income\n",
      "$7500 - $49999\n",
      "Enter value for car\n",
      "NaN\n",
      "Enter value for Bar\n",
      "4-8\n",
      "Enter value for CoffeeHouse\n",
      "4-8\n",
      "Enter value for CarryAway\n",
      "4-8\n",
      "Enter value for RestaurantLessThan20\n",
      "4-8\n",
      "Enter value for Restaurant20To50\n",
      "4-8\n",
      "Enter value for toCoupon_GEQ5min\n",
      "4-8\n",
      "Enter value for toCoupon_GEQ15min\n",
      "1\n",
      "Enter value for toCoupon_GEQ25min\n",
      "1\n",
      "Enter value for direction_same\n",
      "1\n",
      "Enter value for direction_opp\n",
      "1\n"
     ]
    }
   ],
   "source": [
    "columns = ['destination', 'passanger', 'weather', 'temperature', 'time', 'coupon',\n",
    "       'expiration', 'gender', 'age', 'maritalStatus', 'has_children',\n",
    "       'education', 'occupation', 'income', 'car', 'Bar', 'CoffeeHouse',\n",
    "       'CarryAway', 'RestaurantLessThan20', 'Restaurant20To50',\n",
    "       'toCoupon_GEQ5min', 'toCoupon_GEQ15min', 'toCoupon_GEQ25min',\n",
    "       'direction_same', 'direction_opp']\n",
    "test_data = []\n",
    "for column in columns:\n",
    "    print(\"Enter value for\" ,column)\n",
    "    value = input()\n",
    "    test_data.append(value)\n",
    "    "
   ]
  },
  {
   "cell_type": "code",
   "execution_count": 23,
   "id": "2a261390",
   "metadata": {},
   "outputs": [
    {
     "name": "stdout",
     "output_type": "stream",
     "text": [
      "Driver will accept the coupon\n"
     ]
    }
   ],
   "source": [
    "pipeline(test_data)"
   ]
  },
  {
   "cell_type": "code",
   "execution_count": null,
   "id": "dd0f1c73",
   "metadata": {},
   "outputs": [],
   "source": []
  }
 ],
 "metadata": {
  "kernelspec": {
   "display_name": "Python 3 (ipykernel)",
   "language": "python",
   "name": "python3"
  },
  "language_info": {
   "codemirror_mode": {
    "name": "ipython",
    "version": 3
   },
   "file_extension": ".py",
   "mimetype": "text/x-python",
   "name": "python",
   "nbconvert_exporter": "python",
   "pygments_lexer": "ipython3",
   "version": "3.9.13"
  }
 },
 "nbformat": 4,
 "nbformat_minor": 5
}
